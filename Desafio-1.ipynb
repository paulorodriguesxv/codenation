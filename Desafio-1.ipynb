{
 "cells": [
  {
   "cell_type": "code",
   "execution_count": 126,
   "metadata": {},
   "outputs": [
    {
     "name": "stdout",
     "output_type": "stream",
     "text": [
      "Os dados dos estudantes foram lidos com êxito!\n"
     ]
    }
   ],
   "source": [
    "# Importar bibliotecas\n",
    "import numpy as np\n",
    "import pandas as pd\n",
    "from time import time\n",
    "from sklearn.metrics import f1_score\n",
    "import json\n",
    "\n",
    "# Ler os dados dos estudantes\n",
    "student_data = pd.read_csv(\"train.csv\")\n",
    "print(\"Os dados dos estudantes foram lidos com êxito!\")"
   ]
  },
  {
   "cell_type": "code",
   "execution_count": 127,
   "metadata": {},
   "outputs": [],
   "source": [
    "# TODO: Calcule o número de estudante\n",
    "n_students = len(student_data.index)\n",
    "\n",
    "# TODO: Calcule o número de atributos\n",
    "n_features = len(student_data.columns) -1\n",
    "\n",
    "#print(n_students)\n",
    "#print(n_features)\n",
    "\n",
    "columns = ['NU_NOTA_MT', 'NU_NOTA_REDACAO', 'NU_NOTA_CN', 'NU_NOTA_LC', 'NU_NOTA_CH']\n",
    "student_data['NU_NOTA_MT'].fillna(0, inplace=True)\n",
    "student_data['NU_NOTA_REDACAO'].fillna(0, inplace=True)\n",
    "student_data['NU_NOTA_CN'].fillna(0, inplace=True)\n",
    "student_data['NU_NOTA_LC'].fillna(0, inplace=True)\n",
    "student_data['NU_NOTA_CH'].fillna(0, inplace=True)\n",
    "\n",
    "student_data[columns] = student_data[columns].astype(float)\n",
    "\n"
   ]
  },
  {
   "cell_type": "code",
   "execution_count": 134,
   "metadata": {},
   "outputs": [
    {
     "name": "stdout",
     "output_type": "stream",
     "text": [
      "{'token': '40d8e606ca7a56e00ebfffd548fcd44f5c648bf7', 'email': 'paulorodriguesxv@gmail.com', 'answer': [{'NU_INSCRICAO': '38e805cc16e57c45ea6622f5cff598e32ada4659', 'NOTA_FINAL': 862.8476190476}, {'NU_INSCRICAO': '134048547014fd47aa00ba93fca8cd9c16c04056', 'NOTA_FINAL': 861.080952381}, {'NU_INSCRICAO': 'da46a3e408e68b9d78f58d6e5bb2677a2c878dac', 'NOTA_FINAL': 855.9333333333}, {'NU_INSCRICAO': '9bfa516dfe283ac2017e96caf43d5d44e1df9a1f', 'NOTA_FINAL': 853.0238095238}, {'NU_INSCRICAO': '7d59325f67d578d880a1f48de9db2f4c8198d5c5', 'NOTA_FINAL': 840.6904761905}, {'NU_INSCRICAO': '6a2603e971f16660ef23a16a6db16b37c314b930', 'NOTA_FINAL': 831.2238095238}, {'NU_INSCRICAO': '05b0e3db8f1c2a506caa27531e46ca590f54aa74', 'NOTA_FINAL': 828.3142857143}, {'NU_INSCRICAO': '215f575982def0929b7cbfeb74d161ce676cb465', 'NOTA_FINAL': 824.4047619048}, {'NU_INSCRICAO': '8af9ee7c40fbdbd165216c6ad89277ce4ed12ba8', 'NOTA_FINAL': 823.2380952381}, {'NU_INSCRICAO': '4b79ec9443a3aae3b4bd0bbe0f7242f8720261c3', 'NOTA_FINAL': 819.2952380952}, {'NU_INSCRICAO': '5682397ba04dbdab98853788346271a299a0afeb', 'NOTA_FINAL': 819.2857142857}, {'NU_INSCRICAO': '1090b4401edfa11242fdb92b0b50de8e714ed324', 'NOTA_FINAL': 818.0714285714}, {'NU_INSCRICAO': '22391155a8b6acb1a09a7464243685a832a57ea3', 'NOTA_FINAL': 813.4666666667}, {'NU_INSCRICAO': 'cd4a73ac6f92df452764fb91638ffc7cf4a8aa5b', 'NOTA_FINAL': 808.380952381}, {'NU_INSCRICAO': 'e34e5c693edb64443c1f4f8f2550c4d90c155d31', 'NOTA_FINAL': 807.1428571429}, {'NU_INSCRICAO': '19f34a7430cf04cb3117fc9368b42e959bc29626', 'NOTA_FINAL': 805.8285714286}, {'NU_INSCRICAO': '945cb0cef84e8f84f0b44e5996718ae23d95cfbd', 'NOTA_FINAL': 803.5952380952}, {'NU_INSCRICAO': 'b17e51b720cc32e9cb6c22eb3f823e6e2856d46b', 'NOTA_FINAL': 802.3142857143}, {'NU_INSCRICAO': '7a1d6eba82d5ab9f309058cd26068b6e2802e909', 'NOTA_FINAL': 800.9}, {'NU_INSCRICAO': '4052ebbc6eb3f9099e3df3b0aacf45c74b606770', 'NOTA_FINAL': 800.8}]}\n"
     ]
    }
   ],
   "source": [
    "student_data['NOTA_FINAL'] = ((student_data[\"NU_NOTA_MT\"] * 3) + \\\n",
    "    (student_data[\"NU_NOTA_REDACAO\"] * 3) + \\\n",
    "    (student_data[\"NU_NOTA_CN\"] * 2) + \\\n",
    "    (student_data[\"NU_NOTA_LC\"] * 1.5) + \\\n",
    "    (student_data[\"NU_NOTA_CH\"] * 1) ) / ( 3 + 2 + 1.5 + 1 + 3)\n",
    "\n",
    "student_data.sort_values(by=['NOTA_FINAL'], ascending=False, inplace=True)\n",
    "\n",
    "\n",
    "answer = json.loads(student_data[['NU_INSCRICAO', 'NOTA_FINAL']][:20].to_json(orient=\"records\"))\n",
    "#np.average(student_data[\"NU_NOTA_MT\"])\n",
    "data_post = dict(\n",
    "    token=\"40d8e606ca7a56e00ebfffd548fcd44f5c648bf7\",\n",
    "    email=\"paulorodriguesxv@gmail.com\",\n",
    "    answer=answer)\n",
    "\n",
    "print(data_post)\n"
   ]
  },
  {
   "cell_type": "code",
   "execution_count": 135,
   "metadata": {},
   "outputs": [
    {
     "name": "stdout",
     "output_type": "stream",
     "text": [
      "{'score': 100}\n"
     ]
    }
   ],
   "source": [
    "url = \"https://api.codenation.com.br/v1/user/acceleration/data-science/challenge/enem-1/submit\"\n",
    "\n",
    "import requests\n",
    "\n",
    "r = requests.post(url, json=data_post)\n",
    "\n",
    "print(r.json())\n"
   ]
  },
  {
   "cell_type": "code",
   "execution_count": null,
   "metadata": {},
   "outputs": [],
   "source": []
  }
 ],
 "metadata": {
  "kernelspec": {
   "display_name": "Python 3",
   "language": "python",
   "name": "python3"
  },
  "language_info": {
   "codemirror_mode": {
    "name": "ipython",
    "version": 3
   },
   "file_extension": ".py",
   "mimetype": "text/x-python",
   "name": "python",
   "nbconvert_exporter": "python",
   "pygments_lexer": "ipython3",
   "version": "3.6.5"
  }
 },
 "nbformat": 4,
 "nbformat_minor": 2
}
